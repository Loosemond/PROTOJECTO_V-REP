{
 "cells": [
  {
   "cell_type": "code",
   "execution_count": 1,
   "metadata": {
    "collapsed": false
   },
   "outputs": [
    {
     "name": "stdout",
     "output_type": "stream",
     "text": [
      "----------------------------------------------------\n",
      "The remoteApi library could not be loaded. Make sure\n",
      "it is located in the same folder as \"vrep.py\", or\n",
      "appropriately adjust the file \"vrep.py\"\n",
      "----------------------------------------------------\n",
      "\n"
     ]
    },
    {
     "ename": "AttributeError",
     "evalue": "'NoneType' object has no attribute '_handle'",
     "output_type": "error",
     "traceback": [
      "\u001b[0;31m---------------------------------------------------------------------------\u001b[0m",
      "\u001b[0;31mAttributeError\u001b[0m                            Traceback (most recent call last)",
      "\u001b[0;32m<ipython-input-1-75772444ba60>\u001b[0m in \u001b[0;36m<module>\u001b[0;34m()\u001b[0m\n\u001b[1;32m      6\u001b[0m \"\"\"\n\u001b[1;32m      7\u001b[0m \u001b[0;34m\u001b[0m\u001b[0m\n\u001b[0;32m----> 8\u001b[0;31m \u001b[0;32mimport\u001b[0m \u001b[0mvrep\u001b[0m\u001b[0;34m\u001b[0m\u001b[0m\n\u001b[0m\u001b[1;32m      9\u001b[0m \u001b[0;32mimport\u001b[0m \u001b[0msys\u001b[0m\u001b[0;34m\u001b[0m\u001b[0m\n\u001b[1;32m     10\u001b[0m \u001b[0;32mimport\u001b[0m \u001b[0mtime\u001b[0m \u001b[0;31m# ATENÇAO NAO SE PODE ACELARAR O TEMPO NO VREP POIS ASSIM PERDE O SINC ARRANJAR UMA MANEIRA DE OBTER O TEMPO APARTIR O V-REP\u001b[0m\u001b[0;34m\u001b[0m\u001b[0m\n",
      "\u001b[0;32m/home/joao/Documents/PROTOJECTO V-REP/vrep.py\u001b[0m in \u001b[0;36m<module>\u001b[0;34m()\u001b[0m\n\u001b[1;32m     57\u001b[0m \u001b[0;34m\u001b[0m\u001b[0m\n\u001b[1;32m     58\u001b[0m \u001b[0;31m#ctypes wrapper prototypes\u001b[0m\u001b[0;34m\u001b[0m\u001b[0;34m\u001b[0m\u001b[0m\n\u001b[0;32m---> 59\u001b[0;31m \u001b[0mc_GetJointPosition\u001b[0m          \u001b[0;34m=\u001b[0m \u001b[0mct\u001b[0m\u001b[0;34m.\u001b[0m\u001b[0mCFUNCTYPE\u001b[0m\u001b[0;34m(\u001b[0m\u001b[0mct\u001b[0m\u001b[0;34m.\u001b[0m\u001b[0mc_int32\u001b[0m\u001b[0;34m,\u001b[0m\u001b[0mct\u001b[0m\u001b[0;34m.\u001b[0m\u001b[0mc_int32\u001b[0m\u001b[0;34m,\u001b[0m \u001b[0mct\u001b[0m\u001b[0;34m.\u001b[0m\u001b[0mc_int32\u001b[0m\u001b[0;34m,\u001b[0m \u001b[0mct\u001b[0m\u001b[0;34m.\u001b[0m\u001b[0mPOINTER\u001b[0m\u001b[0;34m(\u001b[0m\u001b[0mct\u001b[0m\u001b[0;34m.\u001b[0m\u001b[0mc_float\u001b[0m\u001b[0;34m)\u001b[0m\u001b[0;34m,\u001b[0m \u001b[0mct\u001b[0m\u001b[0;34m.\u001b[0m\u001b[0mc_int32\u001b[0m\u001b[0;34m)\u001b[0m\u001b[0;34m(\u001b[0m\u001b[0;34m(\u001b[0m\u001b[0;34m\"simxGetJointPosition\"\u001b[0m\u001b[0;34m,\u001b[0m \u001b[0mlibsimx\u001b[0m\u001b[0;34m)\u001b[0m\u001b[0;34m)\u001b[0m\u001b[0;34m\u001b[0m\u001b[0m\n\u001b[0m\u001b[1;32m     60\u001b[0m \u001b[0mc_SetJointPosition\u001b[0m          \u001b[0;34m=\u001b[0m \u001b[0mct\u001b[0m\u001b[0;34m.\u001b[0m\u001b[0mCFUNCTYPE\u001b[0m\u001b[0;34m(\u001b[0m\u001b[0mct\u001b[0m\u001b[0;34m.\u001b[0m\u001b[0mc_int32\u001b[0m\u001b[0;34m,\u001b[0m\u001b[0mct\u001b[0m\u001b[0;34m.\u001b[0m\u001b[0mc_int32\u001b[0m\u001b[0;34m,\u001b[0m \u001b[0mct\u001b[0m\u001b[0;34m.\u001b[0m\u001b[0mc_int32\u001b[0m\u001b[0;34m,\u001b[0m \u001b[0mct\u001b[0m\u001b[0;34m.\u001b[0m\u001b[0mc_float\u001b[0m\u001b[0;34m,\u001b[0m \u001b[0mct\u001b[0m\u001b[0;34m.\u001b[0m\u001b[0mc_int32\u001b[0m\u001b[0;34m)\u001b[0m\u001b[0;34m(\u001b[0m\u001b[0;34m(\u001b[0m\u001b[0;34m\"simxSetJointPosition\"\u001b[0m\u001b[0;34m,\u001b[0m \u001b[0mlibsimx\u001b[0m\u001b[0;34m)\u001b[0m\u001b[0;34m)\u001b[0m\u001b[0;34m\u001b[0m\u001b[0m\n\u001b[1;32m     61\u001b[0m \u001b[0mc_GetJointMatrix\u001b[0m            \u001b[0;34m=\u001b[0m \u001b[0mct\u001b[0m\u001b[0;34m.\u001b[0m\u001b[0mCFUNCTYPE\u001b[0m\u001b[0;34m(\u001b[0m\u001b[0mct\u001b[0m\u001b[0;34m.\u001b[0m\u001b[0mc_int32\u001b[0m\u001b[0;34m,\u001b[0m\u001b[0mct\u001b[0m\u001b[0;34m.\u001b[0m\u001b[0mc_int32\u001b[0m\u001b[0;34m,\u001b[0m \u001b[0mct\u001b[0m\u001b[0;34m.\u001b[0m\u001b[0mc_int32\u001b[0m\u001b[0;34m,\u001b[0m \u001b[0mct\u001b[0m\u001b[0;34m.\u001b[0m\u001b[0mPOINTER\u001b[0m\u001b[0;34m(\u001b[0m\u001b[0mct\u001b[0m\u001b[0;34m.\u001b[0m\u001b[0mc_float\u001b[0m\u001b[0;34m)\u001b[0m\u001b[0;34m,\u001b[0m \u001b[0mct\u001b[0m\u001b[0;34m.\u001b[0m\u001b[0mc_int32\u001b[0m\u001b[0;34m)\u001b[0m\u001b[0;34m(\u001b[0m\u001b[0;34m(\u001b[0m\u001b[0;34m\"simxGetJointMatrix\"\u001b[0m\u001b[0;34m,\u001b[0m \u001b[0mlibsimx\u001b[0m\u001b[0;34m)\u001b[0m\u001b[0;34m)\u001b[0m\u001b[0;34m\u001b[0m\u001b[0m\n",
      "\u001b[0;31mAttributeError\u001b[0m: 'NoneType' object has no attribute '_handle'"
     ]
    }
   ],
   "source": [
    "# -*- coding: utf-8 -*-\n",
    "\"\"\"\n",
    "Created on Fri Jan 27 17:51:35 2017\n",
    "\n",
    "@author: João Ribeiro\n",
    "\"\"\"\n",
    "\n",
    "import vrep\n",
    "import sys\n",
    "import time # ATENÇAO NAO SE PODE ACELARAR O TEMPO NO VREP POIS ASSIM PERDE O SINC ARRANJAR UMA MANEIRA DE OBTER O TEMPO APARTIR O V-REP\n",
    "import math\n",
    "\n",
    "Vdireita=0\n",
    "Vesquerda=0\n",
    "done=False\n",
    "skip=False\n",
    "evade=False\n",
    "vrep.simxFinish(-1) # just in case, close all opened connections\n",
    "clientID=vrep.simxStart('192.168.1.8',19999,True,True,5000,5) # Connect to V-REP\n",
    "if clientID!=-1:\n",
    "    print ('Connected to remote API server')\n",
    "    \n",
    "else:\n",
    "    print ('Nao foi possivel conectar ')\n",
    "    sys.exit('erro_1') #sai do programa \n",
    "#%% iniciaçao\n",
    "\n",
    "def Sensores_ini(clientID):\n",
    "    errorCode,left_motor_handle=vrep.simxGetObjectHandle(clientID,'Pioneer_p3dx_leftMotor',vrep.simx_opmode_oneshot_wait) # define os motores dando lhes um nome novo pois os motores ja tem um nome que lhes foi atribuido no v-rep\n",
    "    errorCode,right_motor_handle=vrep.simxGetObjectHandle(clientID,'Pioneer_p3dx_rightMotor',vrep.simx_opmode_oneshot_wait)\n",
    "    #define os sensores ultrasonicos\n",
    "    errorCode,sensor1=vrep.simxGetObjectHandle(clientID,'Pioneer_p3dx_ultrasonicSensor1',vrep.simx_opmode_oneshot_wait) #define os sensores ultrasonicos E\n",
    "    errorCode,sensor2=vrep.simxGetObjectHandle(clientID,'Pioneer_p3dx_ultrasonicSensor2',vrep.simx_opmode_oneshot_wait) #define os sensores ultrasonicos E\n",
    "    errorCode,sensor4=vrep.simxGetObjectHandle(clientID,'Pioneer_p3dx_ultrasonicSensor4',vrep.simx_opmode_oneshot_wait) #define os sensores ultrasonicos\n",
    "    errorCode,sensor5=vrep.simxGetObjectHandle(clientID,'Pioneer_p3dx_ultrasonicSensor5',vrep.simx_opmode_oneshot_wait) #define os sensores ultrasonicos\n",
    "    errorCode,sensor7=vrep.simxGetObjectHandle(clientID,'Pioneer_p3dx_ultrasonicSensor7',vrep.simx_opmode_oneshot_wait) #define os sensores ultrasonicos E\n",
    "    errorCode,sensor8=vrep.simxGetObjectHandle(clientID,'Pioneer_p3dx_ultrasonicSensor8',vrep.simx_opmode_oneshot_wait) #define os sensores ultrasonicos D\n",
    "    errorCode,sensor9=vrep.simxGetObjectHandle(clientID,'Pioneer_p3dx_ultrasonicSensor9',vrep.simx_opmode_oneshot_wait) #define os sensores ultrasonicos D\n",
    "    errorCode,sensor16=vrep.simxGetObjectHandle(clientID,'Pioneer_p3dx_ultrasonicSensor16',vrep.simx_opmode_oneshot_wait) #define os sensores ultrasonicos E\n",
    "    return sensor1,sensor2,sensor4,sensor5,sensor7,sensor8,sensor9,sensor16\n",
    "\n",
    "def Sensores_start(clientID,sensor1,sensor2,sensor4,sensor5,sensor7,sensor8,sensor9,sensor16): # inicia os sensores\n",
    "   #inicia os sensores \n",
    "    errorCode,detectionState1,detectedPoint1,detectedObjectHandle,detectedSurfaceNormalVector=vrep.simxReadProximitySensor(clientID,sensor1,vrep.simx_opmode_streaming) # 1 E F\n",
    "    errorCode,detectionState2,detectedPoint2,detectedObjectHandle,detectedSurfaceNormalVector=vrep.simxReadProximitySensor(clientID,sensor2,vrep.simx_opmode_streaming) # 1 E F curva 1º\n",
    "    errorCode,detectionState4,detectedPoint4,detectedObjectHandle,detectedSurfaceNormalVector=vrep.simxReadProximitySensor(clientID,sensor4,vrep.simx_opmode_streaming) # 4\n",
    "    errorCode,detectionState5,detectedPoint5,detectedObjectHandle,detectedSurfaceNormalVector=vrep.simxReadProximitySensor(clientID,sensor5,vrep.simx_opmode_streaming) # 5\n",
    "    errorCode,detectionState7,detectedPoint7,detectedObjectHandle,detectedSurfaceNormalVector=vrep.simxReadProximitySensor(clientID,sensor7,vrep.simx_opmode_streaming) # 7 D F curva 1º\n",
    "    errorCode,detectionState8,detectedPoint8,detectedObjectHandle,detectedSurfaceNormalVector=vrep.simxReadProximitySensor(clientID,sensor8,vrep.simx_opmode_streaming) # 8 D F\n",
    "    errorCode,detectionState9,detectedPoint9,detectedObjectHandle,detectedSurfaceNormalVector=vrep.simxReadProximitySensor(clientID,sensor9,vrep.simx_opmode_streaming) # 9 D T\n",
    "    errorCode,detectionState16,detectedPoint16,detectedObjectHandle,detectedSurfaceNormalVector=vrep.simxReadProximitySensor(clientID,sensor16,vrep.simx_opmode_streaming) # 16 E T\n",
    "    return detectionState1,detectedPoint1,detectionState2,detectedPoint2,detectionState4,detectedPoint4,detectionState5,detectedPoint5,detectionState7,detectedPoint7,detectionState8,detectedPoint8,detectionState9,detectedPoint9,detectionState16,detectedPoint16\n",
    "\n",
    "sensor1,sensor2,sensor4,sensor5,sensor7,sensor8,sensor9,sensor16=Sensores_ini(clientID)\n",
    "detectionState1,detectedPoint1,detectionState2,detectedPoint2,detectionState4,detectedPoint4,detectionState5,detectedPoint5,detectionState7,detectedPoint7,detectionState8,detectedPoint8,detectionState9,detectedPoint9,detectionState16,detectedPoint16=Sensores_start(clientID,sensor1,sensor2,sensor4,sensor5,sensor7,sensor8,sensor9,sensor16)\n",
    "\n",
    "errorCode,left_motor_handle=vrep.simxGetObjectHandle(clientID,'Pioneer_p3dx_leftMotor',vrep.simx_opmode_oneshot_wait) # define os motores dando lhes um nome novo pois os motores ja tem um nome que lhes foi atribuido no v-rep\n",
    "errorCode,right_motor_handle=vrep.simxGetObjectHandle(clientID,'Pioneer_p3dx_rightMotor',vrep.simx_opmode_oneshot_wait)\n",
    "#define os sensores ultrasonicos\n",
    "errorCode,sensor1=vrep.simxGetObjectHandle(clientID,'Pioneer_p3dx_ultrasonicSensor1',vrep.simx_opmode_oneshot_wait) #define os sensores ultrasonicos E\n",
    "errorCode,sensor2=vrep.simxGetObjectHandle(clientID,'Pioneer_p3dx_ultrasonicSensor2',vrep.simx_opmode_oneshot_wait) #define os sensores ultrasonicos E\n",
    "errorCode,sensor4=vrep.simxGetObjectHandle(clientID,'Pioneer_p3dx_ultrasonicSensor4',vrep.simx_opmode_oneshot_wait) #define os sensores ultrasonicos\n",
    "errorCode,sensor5=vrep.simxGetObjectHandle(clientID,'Pioneer_p3dx_ultrasonicSensor5',vrep.simx_opmode_oneshot_wait) #define os sensores ultrasonicos\n",
    "errorCode,sensor7=vrep.simxGetObjectHandle(clientID,'Pioneer_p3dx_ultrasonicSensor7',vrep.simx_opmode_oneshot_wait) #define os sensores ultrasonicos E\n",
    "errorCode,sensor8=vrep.simxGetObjectHandle(clientID,'Pioneer_p3dx_ultrasonicSensor8',vrep.simx_opmode_oneshot_wait) #define os sensores ultrasonicos D\n",
    "errorCode,sensor9=vrep.simxGetObjectHandle(clientID,'Pioneer_p3dx_ultrasonicSensor9',vrep.simx_opmode_oneshot_wait) #define os sensores ultrasonicos D\n",
    "errorCode,sensor16=vrep.simxGetObjectHandle(clientID,'Pioneer_p3dx_ultrasonicSensor16',vrep.simx_opmode_oneshot_wait) #define os sensores ultrasonicos E\n",
    "#inicia os sensores \n",
    "errorCode,detectionState1,detectedPoint1,detectedObjectHandle,detectedSurfaceNormalVector=vrep.simxReadProximitySensor(clientID,sensor1,vrep.simx_opmode_streaming) # 1 E F\n",
    "errorCode,detectionState2,detectedPoint2,detectedObjectHandle,detectedSurfaceNormalVector=vrep.simxReadProximitySensor(clientID,sensor2,vrep.simx_opmode_streaming) # 1 E F curva 1º\n",
    "errorCode,detectionState4,detectedPoint4,detectedObjectHandle,detectedSurfaceNormalVector=vrep.simxReadProximitySensor(clientID,sensor4,vrep.simx_opmode_streaming) # 4\n",
    "errorCode,detectionState5,detectedPoint5,detectedObjectHandle,detectedSurfaceNormalVector=vrep.simxReadProximitySensor(clientID,sensor5,vrep.simx_opmode_streaming) # 5\n",
    "errorCode,detectionState7,detectedPoint7,detectedObjectHandle,detectedSurfaceNormalVector=vrep.simxReadProximitySensor(clientID,sensor7,vrep.simx_opmode_streaming) # 7 D F curva 1º\n",
    "errorCode,detectionState8,detectedPoint8,detectedObjectHandle,detectedSurfaceNormalVector=vrep.simxReadProximitySensor(clientID,sensor8,vrep.simx_opmode_streaming) # 8 D F\n",
    "errorCode,detectionState9,detectedPoint9,detectedObjectHandle,detectedSurfaceNormalVector=vrep.simxReadProximitySensor(clientID,sensor9,vrep.simx_opmode_streaming) # 9 D T\n",
    "errorCode,detectionState16,detectedPoint16,detectedObjectHandle,detectedSurfaceNormalVector=vrep.simxReadProximitySensor(clientID,sensor16,vrep.simx_opmode_streaming)        \n",
    "\n",
    "\n",
    "\n",
    "#errorCode=vrep.simxSetJointTargetVelocity(clientID,left_motor_handle,Vesquerda,vrep.simx_opmode_streaming) # define uma velucidade a uma dada roda\n",
    "#\n",
    "#errorCode=vrep.simxSetJointTargetVelocity(clientID,right_motor_handle,Vdireita,vrep.simx_opmode_streaming) #o error code serve para saber se ta tudo a funcionar direito caso a var error code =! de 0 algo ta mal\n",
    "Vdireita=1\n",
    "Vesquerda=1\n",
    "errorCode=vrep.simxSetJointTargetVelocity(clientID,left_motor_handle,Vesquerda,vrep.simx_opmode_streaming)\n",
    "errorCode=vrep.simxSetJointTargetVelocity(clientID,right_motor_handle,Vdireita,vrep.simx_opmode_streaming)\n",
    "evadeETime=time.time()\n",
    "evadeDTime=time.time()\n",
    "startTime=time.time()\n",
    "while time.time()-startTime < 120 : #loop\n",
    "    time.sleep(0.05)\n",
    "    skip=False\n",
    "    errorCode,detectionState1,detectedPoint1,detectedObjectHandle,detectedSurfaceNormalVector=vrep.simxReadProximitySensor(clientID,sensor1,vrep.simx_opmode_buffer)\n",
    "    errorCode,detectionState2,detectedPoint2,detectedObjectHandle,detectedSurfaceNormalVector=vrep.simxReadProximitySensor(clientID,sensor2,vrep.simx_opmode_buffer)\n",
    "    errorCode,detectionState4,detectedPoint4,detectedObjectHandle,detectedSurfaceNormalVector=vrep.simxReadProximitySensor(clientID,sensor4,vrep.simx_opmode_buffer)\n",
    "    errorCode,detectionState5,detectedPoint5,detectedObjectHandle,detectedSurfaceNormalVector=vrep.simxReadProximitySensor(clientID,sensor5,vrep.simx_opmode_buffer)\n",
    "    errorCode,detectionState7,detectedPoint7,detectedObjectHandle,detectedSurfaceNormalVector=vrep.simxReadProximitySensor(clientID,sensor7,vrep.simx_opmode_buffer)\n",
    "    errorCode,detectionState8,detectedPoint8,detectedObjectHandle,detectedSurfaceNormalVector=vrep.simxReadProximitySensor(clientID,sensor8,vrep.simx_opmode_buffer)\n",
    "    errorCode,detectionState9,detectedPoint9,detectedObjectHandle,detectedSurfaceNormalVector=vrep.simxReadProximitySensor(clientID,sensor9,vrep.simx_opmode_buffer)\n",
    "    errorCode,detectionState16,detectedPoint16,detectedObjectHandle,detectedSurfaceNormalVector=vrep.simxReadProximitySensor(clientID,sensor16,vrep.simx_opmode_buffer)\n",
    "   \n",
    "   # time.sleep(0.01)\n",
    "    \n",
    "    #print(math.sqrt(detectedPoint1[0]**2+detectedPoint1[1]**2+detectedPoint1[2]**2))\n",
    "    detectedPoint1=math.sqrt(detectedPoint1[0]**2+detectedPoint1[1]**2+detectedPoint1[2]**2)\n",
    "    detectedPoint2=math.sqrt(detectedPoint2[0]**2+detectedPoint2[1]**2+detectedPoint2[2]**2)\n",
    "    detectedPoint4=math.sqrt(detectedPoint4[0]**2+detectedPoint4[1]**2+detectedPoint4[2]**2)\n",
    "    detectedPoint5=math.sqrt(detectedPoint5[0]**2+detectedPoint5[1]**2+detectedPoint5[2]**2)\n",
    "    detectedPoint7=math.sqrt(detectedPoint7[0]**2+detectedPoint7[1]**2+detectedPoint7[2]**2)\n",
    "    detectedPoint8=math.sqrt(detectedPoint8[0]**2+detectedPoint8[1]**2+detectedPoint8[2]**2)\n",
    "    detectedPoint9=math.sqrt(detectedPoint9[0]**2+detectedPoint9[1]**2+detectedPoint9[2]**2)\n",
    "    detectedPoint16=math.sqrt(detectedPoint16[0]**2+detectedPoint16[1]**2+detectedPoint16[2]**2)\n",
    "   \n",
    "    #print('4',detectionState4)\n",
    "    #print('8',detectionState8)#teste para verificar se ta a detetar alguma coisa com o sensor\n",
    "    if detectedPoint4 < 0.01 and detectedPoint5 < 0.01:\n",
    "        done = True\n",
    "        if detectionState1 == False and done == False:\n",
    "           Vdireita = 0\n",
    "           Vesquerda = 1\n",
    "           errorCode=vrep.simxSetJointTargetVelocity(clientID,left_motor_handle,Vdireita,vrep.simx_opmode_streaming)\n",
    "           errorCode=vrep.simxSetJointTargetVelocity(clientID,right_motor_handle,Vesquerda,vrep.simx_opmode_streaming)\n",
    "           time.sleep(1.5) # vai depender da velucidade e do atrito do robo !!!\n",
    "           Vdireita = 1\n",
    "           Vesquerda = 1\n",
    "           errorCode=vrep.simxSetJointTargetVelocity(clientID,left_motor_handle,Vdireita,vrep.simx_opmode_streaming)\n",
    "           errorCode=vrep.simxSetJointTargetVelocity(clientID,right_motor_handle,Vesquerda,vrep.simx_opmode_streaming)\n",
    "           #time.sleep(1) # refers is to fast!!! assim evita que o robo ande as voltas \n",
    "           done = True\n",
    "        if detectionState8 == False and done == False:\n",
    "           Vdireita = 1\n",
    "           Vesquerda = 0\n",
    "           errorCode=vrep.simxSetJointTargetVelocity(clientID,left_motor_handle,Vdireita,vrep.simx_opmode_streaming)\n",
    "           errorCode=vrep.simxSetJointTargetVelocity(clientID,right_motor_handle,Vesquerda,vrep.simx_opmode_streaming)\n",
    "           time.sleep(1.5) # vai depender da velucidade e do atrito do robo !!!\n",
    "           Vdireita = 1\n",
    "           Vesquerda = 1\n",
    "           errorCode=vrep.simxSetJointTargetVelocity(clientID,left_motor_handle,Vdireita,vrep.simx_opmode_streaming)\n",
    "           errorCode=vrep.simxSetJointTargetVelocity(clientID,right_motor_handle,Vesquerda,vrep.simx_opmode_streaming)\n",
    "          # time.sleep(1)\n",
    "           done = True\n",
    "        if detectionState8 == True and done == False and detectionState1 == True:\n",
    "           Vdireita = -0.5\n",
    "           Vesquerda = 0.5\n",
    "           errorCode=vrep.simxSetJointTargetVelocity(clientID,left_motor_handle,Vdireita,vrep.simx_opmode_streaming)\n",
    "           errorCode=vrep.simxSetJointTargetVelocity(clientID,right_motor_handle,Vesquerda,vrep.simx_opmode_streaming)\n",
    "           time.sleep(3.25)\n",
    "           Vdireita = 1\n",
    "           Vesquerda = 1\n",
    "           errorCode=vrep.simxSetJointTargetVelocity(clientID,left_motor_handle,Vdireita,vrep.simx_opmode_streaming)\n",
    "           errorCode=vrep.simxSetJointTargetVelocity(clientID,right_motor_handle,Vesquerda,vrep.simx_opmode_streaming)\n",
    "   \n",
    "    if detectionState1==True and detectionState2==True  :\n",
    "        skip=True \n",
    "        C_detectedPoint2=math.sin(math.sqrt(3)/2-math.pi/180)*detectedPoint2 # calcula a que distancia ta o objecto do robo em relaçao ao seu lado esquerdo\n",
    "        print(detectedPoint1,C_detectedPoint2,detectedPoint2)\n",
    "        Pesquerda=abs(detectedPoint1 - C_detectedPoint2)     \n",
    "        if  Pesquerda > 0.01 : #evita que raspe na parede \n",
    "            if detectedPoint1 < C_detectedPoint2:\n",
    "                Vdireita = 0\n",
    "                Vesquerda = 1\n",
    "                errorCode=vrep.simxSetJointTargetVelocity(clientID,left_motor_handle,Vdireita,vrep.simx_opmode_streaming)\n",
    "                errorCode=vrep.simxSetJointTargetVelocity(clientID,right_motor_handle,Vesquerda,vrep.simx_opmode_streaming)\n",
    "                if Pesquerda > 0.15  :\n",
    "                    time.sleep(0.1)\n",
    "                   \n",
    "                        \n",
    "                time.sleep(0.1)\n",
    "                Vdireita = 1\n",
    "                Vesquerda = 1\n",
    "                errorCode=vrep.simxSetJointTargetVelocity(clientID,left_motor_handle,Vdireita,vrep.simx_opmode_streaming)\n",
    "                errorCode=vrep.simxSetJointTargetVelocity(clientID,right_motor_handle,Vesquerda,vrep.simx_opmode_streaming)\n",
    "            else:\n",
    "                Vdireita = 1\n",
    "                Vesquerda = 0\n",
    "                errorCode=vrep.simxSetJointTargetVelocity(clientID,left_motor_handle,Vdireita,vrep.simx_opmode_streaming)\n",
    "                errorCode=vrep.simxSetJointTargetVelocity(clientID,right_motor_handle,Vesquerda,vrep.simx_opmode_streaming)\n",
    "                if Pesquerda > 0.15 :\n",
    "                    time.sleep(0.1)\n",
    "                time.sleep(0.1)\n",
    "                Vdireita = 1\n",
    "                Vesquerda = 1\n",
    "                errorCode=vrep.simxSetJointTargetVelocity(clientID,left_motor_handle,Vdireita,vrep.simx_opmode_streaming)\n",
    "                errorCode=vrep.simxSetJointTargetVelocity(clientID,right_motor_handle,Vesquerda,vrep.simx_opmode_streaming)\n",
    "                \n",
    "    if detectionState1==True and detectionState16==True and skip==False :\n",
    "        skip=True \n",
    "        \n",
    "        \n",
    "        Pesquerda=abs(detectedPoint1 - detectedPoint16)     \n",
    "        if  Pesquerda > 0.01 : #evita que raspe na parede \n",
    "            if detectedPoint1 > detectedPoint16:\n",
    "                Vdireita = 0\n",
    "                Vesquerda = 1\n",
    "                errorCode=vrep.simxSetJointTargetVelocity(clientID,left_motor_handle,Vdireita,vrep.simx_opmode_streaming)\n",
    "                errorCode=vrep.simxSetJointTargetVelocity(clientID,right_motor_handle,Vesquerda,vrep.simx_opmode_streaming)\n",
    "                if Pesquerda > 0.15  :\n",
    "                    time.sleep(0.1)\n",
    "                   \n",
    "                        \n",
    "                time.sleep(0.1)\n",
    "                Vdireita = 1\n",
    "                Vesquerda = 1\n",
    "                errorCode=vrep.simxSetJointTargetVelocity(clientID,left_motor_handle,Vdireita,vrep.simx_opmode_streaming)\n",
    "                errorCode=vrep.simxSetJointTargetVelocity(clientID,right_motor_handle,Vesquerda,vrep.simx_opmode_streaming)\n",
    "            else:\n",
    "                Vdireita = 1\n",
    "                Vesquerda = 0\n",
    "                errorCode=vrep.simxSetJointTargetVelocity(clientID,left_motor_handle,Vdireita,vrep.simx_opmode_streaming)\n",
    "                errorCode=vrep.simxSetJointTargetVelocity(clientID,right_motor_handle,Vesquerda,vrep.simx_opmode_streaming)\n",
    "                if Pesquerda > 0.15 :\n",
    "                    time.sleep(0.1)\n",
    "                time.sleep(0.1)\n",
    "                Vdireita = 1\n",
    "                Vesquerda = 1\n",
    "                errorCode=vrep.simxSetJointTargetVelocity(clientID,left_motor_handle,Vdireita,vrep.simx_opmode_streaming)\n",
    "                errorCode=vrep.simxSetJointTargetVelocity(clientID,right_motor_handle,Vesquerda,vrep.simx_opmode_streaming)\n",
    "    if detectionState8==True and detectionState7==True and skip==False : # direita superior \n",
    "         C_detectedPoint7=math.sin(math.sqrt(3)/2-math.pi/180)*detectedPoint7\n",
    "         Pdireita= abs(detectedPoint8 - C_detectedPoint7)\n",
    "         if Pdireita > 0.01 : #evita que raspe na parede \n",
    "            if detectedPoint8 < C_detectedPoint7:\n",
    "                Vdireita = 1\n",
    "                Vesquerda = 0\n",
    "                errorCode=vrep.simxSetJointTargetVelocity(clientID,left_motor_handle,Vdireita,vrep.simx_opmode_streaming)\n",
    "                errorCode=vrep.simxSetJointTargetVelocity(clientID,right_motor_handle,Vesquerda,vrep.simx_opmode_streaming)\n",
    "                if Pdireita > 0.15  :\n",
    "                    time.sleep(0.1)\n",
    "                   \n",
    "                time.sleep(0.1)\n",
    "                Vdireita = 1\n",
    "                Vesquerda = 1\n",
    "                errorCode=vrep.simxSetJointTargetVelocity(clientID,left_motor_handle,Vdireita,vrep.simx_opmode_streaming)\n",
    "                errorCode=vrep.simxSetJointTargetVelocity(clientID,right_motor_handle,Vesquerda,vrep.simx_opmode_streaming)\n",
    "            else:\n",
    "                Vdireita = 0\n",
    "                Vesquerda = 1\n",
    "                errorCode=vrep.simxSetJointTargetVelocity(clientID,left_motor_handle,Vdireita,vrep.simx_opmode_streaming)\n",
    "                errorCode=vrep.simxSetJointTargetVelocity(clientID,right_motor_handle,Vesquerda,vrep.simx_opmode_streaming)\n",
    "                if Pdireita > 0.15  :\n",
    "                    time.sleep(0.1)\n",
    "                time.sleep(0.1)\n",
    "                Vdireita = 1\n",
    "                Vesquerda = 1\n",
    "                errorCode=vrep.simxSetJointTargetVelocity(clientID,left_motor_handle,Vdireita,vrep.simx_opmode_streaming)\n",
    "                errorCode=vrep.simxSetJointTargetVelocity(clientID,right_motor_handle,Vesquerda,vrep.simx_opmode_streaming)\n",
    "                \n",
    "    if detectionState8==True and detectionState9==True and skip==False : # e possivel que o sensor na diagonal nao apanhe nada assim temos a certesa qeu o robo esta sempre paralelo a parede\n",
    "        skip=True  #direita inferior\n",
    "        \n",
    "        \n",
    "        Pesquerda=abs(detectedPoint8 - detectedPoint9)     \n",
    "        if  Pesquerda > 0.01 : #evita que raspe na parede \n",
    "            if detectedPoint8 < detectedPoint9:\n",
    "                Vdireita = 0\n",
    "                Vesquerda = 1\n",
    "                errorCode=vrep.simxSetJointTargetVelocity(clientID,left_motor_handle,Vdireita,vrep.simx_opmode_streaming)\n",
    "                errorCode=vrep.simxSetJointTargetVelocity(clientID,right_motor_handle,Vesquerda,vrep.simx_opmode_streaming)\n",
    "                if Pesquerda > 0.15  :\n",
    "                    time.sleep(0.1)\n",
    "                   \n",
    "                        \n",
    "                time.sleep(0.1)\n",
    "                Vdireita = 1\n",
    "                Vesquerda = 1\n",
    "                errorCode=vrep.simxSetJointTargetVelocity(clientID,left_motor_handle,Vdireita,vrep.simx_opmode_streaming)\n",
    "                errorCode=vrep.simxSetJointTargetVelocity(clientID,right_motor_handle,Vesquerda,vrep.simx_opmode_streaming)\n",
    "            else:\n",
    "                Vdireita = 1\n",
    "                Vesquerda = 0\n",
    "                errorCode=vrep.simxSetJointTargetVelocity(clientID,left_motor_handle,Vdireita,vrep.simx_opmode_streaming)\n",
    "                errorCode=vrep.simxSetJointTargetVelocity(clientID,right_motor_handle,Vesquerda,vrep.simx_opmode_streaming)\n",
    "                if Pesquerda > 0.15 :\n",
    "                    time.sleep(0.1)\n",
    "                time.sleep(0.1)\n",
    "                Vdireita = 1\n",
    "                Vesquerda = 1\n",
    "                errorCode=vrep.simxSetJointTargetVelocity(clientID,left_motor_handle,Vdireita,vrep.simx_opmode_streaming)\n",
    "                errorCode=vrep.simxSetJointTargetVelocity(clientID,right_motor_handle,Vesquerda,vrep.simx_opmode_streaming)"
   ]
  },
  {
   "cell_type": "code",
   "execution_count": 2,
   "metadata": {
    "collapsed": false
   },
   "outputs": [
    {
     "ename": "SyntaxError",
     "evalue": "invalid syntax (<ipython-input-2-f9852b65f6bb>, line 1)",
     "output_type": "error",
     "traceback": [
      "\u001b[0;36m  File \u001b[0;32m\"<ipython-input-2-f9852b65f6bb>\"\u001b[0;36m, line \u001b[0;32m1\u001b[0m\n\u001b[0;31m    66666÷666770\u001b[0m\n\u001b[0m         ^\u001b[0m\n\u001b[0;31mSyntaxError\u001b[0m\u001b[0;31m:\u001b[0m invalid syntax\n"
     ]
    }
   ],
   "source": [
    "66666÷666770\n",
    "\n"
   ]
  },
  {
   "cell_type": "code",
   "execution_count": 3,
   "metadata": {
    "collapsed": false
   },
   "outputs": [
    {
     "data": {
      "text/plain": [
       "0"
      ]
     },
     "execution_count": 3,
     "metadata": {},
     "output_type": "execute_result"
    }
   ],
   "source": [
    "6663/9000"
   ]
  },
  {
   "cell_type": "code",
   "execution_count": 4,
   "metadata": {
    "collapsed": false
   },
   "outputs": [
    {
     "data": {
      "text/plain": [
       "0.7330441284817295"
      ]
     },
     "execution_count": 4,
     "metadata": {},
     "output_type": "execute_result"
    }
   ],
   "source": [
    "66662.3/90939\n"
   ]
  },
  {
   "cell_type": "code",
   "execution_count": 5,
   "metadata": {
    "collapsed": false
   },
   "outputs": [
    {
     "data": {
      "text/plain": [
       "22"
      ]
     },
     "execution_count": 5,
     "metadata": {},
     "output_type": "execute_result"
    }
   ],
   "source": [
    "44/2\n"
   ]
  },
  {
   "cell_type": "code",
   "execution_count": null,
   "metadata": {
    "collapsed": true
   },
   "outputs": [],
   "source": []
  }
 ],
 "metadata": {
  "kernelspec": {
   "display_name": "Python 2",
   "language": "python",
   "name": "python2"
  },
  "language_info": {
   "codemirror_mode": {
    "name": "ipython",
    "version": 2
   },
   "file_extension": ".py",
   "mimetype": "text/x-python",
   "name": "python",
   "nbconvert_exporter": "python",
   "pygments_lexer": "ipython2",
   "version": "2.7.13"
  }
 },
 "nbformat": 4,
 "nbformat_minor": 2
}
